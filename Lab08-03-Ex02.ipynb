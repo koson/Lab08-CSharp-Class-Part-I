{
 "cells": [
  {
   "cell_type": "markdown",
   "metadata": {},
   "source": [
    "# Lab 8 Exercise 2\n",
    "\n",
    "## การประกาศสมาชิกในคลาส (fields)\n"
   ]
  },
  {
   "cell_type": "markdown",
   "metadata": {},
   "source": [
    "\n",
    "\n",
    "1. สร้าง console application project\n",
    "\n",
    "```\n",
    "    dotnet new console --name Lab08_Ex02\n",
    "```\n"
   ]
  },
  {
   "cell_type": "markdown",
   "metadata": {},
   "source": [
    "\n",
    "2. เปลี่ยน code ให้เป็นดังต่อไปนี้ (ตัวเลขข้างหน้า คือหมายเลขบรรทัด ไว้สำหรับอ้างอิง)\n",
    "\n",
    "> ```csharp\n",
    ">  1. Person p = new Person();\n",
    ">  2. p.name = \"Rambo\";\n",
    ">  3. p.id = \"1987\";\n",
    ">  4. p.income = 2500;\n",
    ">  5. System.Console.WriteLine($\"Type of p is {p.GetType()}\");\n",
    ">  6. System.Console.WriteLine($\"p.name = {p.name}\\ttype = {p.name.GetType()}\");\n",
    ">  7. System.Console.WriteLine($\"p.id = {p.id}\\ttype = {p.id.GetType()}\");\n",
    ">  8. System.Console.WriteLine($\"p.income = {p.income}\\ttype = {p.income.GetType()}\");\n",
    ">  9. \n",
    "> 10. class Person\n",
    "> 11. {\n",
    "> 12.     string name;\n",
    "> 13.     string id;\n",
    "> 14.     int income;\n",
    "> 15. }\n",
    "> ```\n"
   ]
  },
  {
   "cell_type": "markdown",
   "metadata": {},
   "source": [
    "\n",
    "3. Build project โดยการใช้คำสั่ง\n",
    "\n",
    "```\n",
    "    dotnet build  Lab08_Ex02\n",
    "```\n"
   ]
  },
  {
   "cell_type": "markdown",
   "metadata": {},
   "source": [
    "\n",
    "4. บันทึกผลที่ได้จากการรันคำสั่งในข้อ 3\n"
   ]
  },
  {
   "cell_type": "markdown",
   "metadata": {},
   "source": [
    "*คำตอบ*"
   ]
  },
  {
   "attachments": {
    "image.png": {
     "image/png": "[encoded data removed]"
    }
   },
   "cell_type": "markdown",
   "metadata": {},
   "source": [
    "![image.png](attachment:image.png)"
   ]
  },
  {
   "cell_type": "markdown",
   "metadata": {},
   "source": [
    "\n",
    "5. Run project โดยการใช้คำสั่ง\n",
    "\n",
    "```\n",
    "    dotnet run --project Lab08_Ex02\n",
    "```\n"
   ]
  },
  {
   "cell_type": "markdown",
   "metadata": {},
   "source": [
    "\n",
    "6. บันทึกผลที่ได้จากการรันคำสั่งในข้อ 5\n",
    "\n"
   ]
  },
  {
   "cell_type": "markdown",
   "metadata": {},
   "source": [
    "*คำตอบ*"
   ]
  },
  {
   "attachments": {
    "image.png": {
     "image/png": "[encoded data removed]"
    }
   },
   "cell_type": "markdown",
   "metadata": {},
   "source": [
    "![image.png](attachment:image.png)"
   ]
  },
  {
   "cell_type": "markdown",
   "metadata": {},
   "source": [
    "\n",
    "7. อธิบายสิ่งที่พบในการทดลอง\n",
    "\n"
   ]
  },
  {
   "cell_type": "markdown",
   "metadata": {},
   "source": [
    "*คำตอบ*"
   ]
  },
  {
   "cell_type": "markdown",
   "metadata": {},
   "source": [
    "ตัวแปร name, id และ income ถูกประกาศเป็น private ซึ่งหมายความว่าไม่สามารถเข้าถึงได้จากภายนอกคลาส Person "
   ]
  },
  {
   "cell_type": "markdown",
   "metadata": {},
   "source": [
    "8. นำ code ในข้อ 2 มารันบน polyglot notebook  โดยใส่ใน  code cell ด้านล่างนี้\n"
   ]
  },
  {
   "cell_type": "code",
   "execution_count": null,
   "metadata": {
    "dotnet_interactive": {
     "language": "csharp"
    },
    "polyglot_notebook": {
     "kernelName": "csharp"
    }
   },
   "outputs": [],
   "source": [
    "// พื้นที่เขียน code ตามข้อ 2\n",
    "Person p = new Person();\n",
    "p.name = \"Rambo\";\n",
    "p.id = \"1987\";\n",
    "p.income = 2500;\n",
    "System.Console.WriteLine($\"Type of p is {p.GetType()}\");\n",
    "System.Console.WriteLine($\"p.name = {p.name}\\ttype = {p.name.GetType()}\");\n",
    "System.Console.WriteLine($\"p.id = {p.id}\\ttype = {p.id.GetType()}\");\n",
    "System.Console.WriteLine($\"p.income = {p.income}\\ttype = {p.income.GetType()}\");\n",
    "\n",
    "class Person\n",
    "{\n",
    "    string name;\n",
    "    string id;\n",
    "    int income;\n",
    "} "
   ]
  },
  {
   "cell_type": "markdown",
   "metadata": {},
   "source": [
    "8.1 ผลการรันเป็นอย่างไร\n",
    "\n"
   ]
  },
  {
   "cell_type": "markdown",
   "metadata": {},
   "source": [
    "*คำตอบ*"
   ]
  },
  {
   "cell_type": "markdown",
   "metadata": {},
   "source": [
    "Error: (3,3): error CS0122: 'Person.name' is inaccessible due to its protection level\n",
    "(4,3): error CS0122: 'Person.id' is inaccessible due to its protection level\n",
    "(5,3): error CS0122: 'Person.income' is inaccessible due to its protection level\n",
    "(7,40): error CS0122: 'Person.name' is inaccessible due to its protection level\n",
    "(7,57): error CS0122: 'Person.name' is inaccessible due to its protection level\n",
    "(8,38): error CS0122: 'Person.id' is inaccessible due to its protection level\n",
    "(8,53): error CS0122: 'Person.id' is inaccessible due to its protection level\n",
    "(9,42): error CS0122: 'Person.income' is inaccessible due to its protection level\n",
    "(9,61): error CS0122: 'Person.income' is inaccessible due to its protection level"
   ]
  },
  {
   "cell_type": "markdown",
   "metadata": {},
   "source": [
    "8.2 เหมือนหรือค่างจาก console application อย่างไร"
   ]
  },
  {
   "cell_type": "markdown",
   "metadata": {},
   "source": [
    "*คำตอบ*"
   ]
  },
  {
   "cell_type": "markdown",
   "metadata": {},
   "source": [
    "เหมือนกัน"
   ]
  },
  {
   "cell_type": "markdown",
   "metadata": {},
   "source": [
    "## คำถาม"
   ]
  },
  {
   "cell_type": "markdown",
   "metadata": {},
   "source": [
    "1. Field ในภาษา C# คืออะไร\n"
   ]
  },
  {
   "cell_type": "markdown",
   "metadata": {},
   "source": [
    "*คำตอบ*"
   ]
  },
  {
   "cell_type": "markdown",
   "metadata": {},
   "source": [
    "ตัวแปรที่ประกาศอยู่ภายในคลาสหรือโครงสร้าง ซึ่งใช้เก็บข้อมูลหรือสถานะของอ็อบเจ็กต์ มักจะถูกประกาศเป็น private หรือ public เพื่อควบคุมการเข้าถึงจากภายนอกคลาส"
   ]
  },
  {
   "cell_type": "markdown",
   "metadata": {},
   "source": [
    "2. Field มีหน้าที่อะไรใน class \n"
   ]
  },
  {
   "cell_type": "markdown",
   "metadata": {},
   "source": [
    "*คำตอบ*"
   ]
  },
  {
   "cell_type": "markdown",
   "metadata": {},
   "source": [
    "เก็บข้อมูลหรือสถานะของอ็อบเจ็กต์ โดยมันใช้เก็บค่าเฉพาะที่เกี่ยวข้องกับอ็อบเจ็กต์นั้นๆ"
   ]
  },
  {
   "cell_type": "markdown",
   "metadata": {},
   "source": [
    "3. การประกาศ Field ทำได้อย่างไร ให้อธิบายรูปแบบการประกาศ field ในคลาส\n"
   ]
  },
  {
   "cell_type": "markdown",
   "metadata": {},
   "source": [
    "*คำตอบ*"
   ]
  },
  {
   "cell_type": "markdown",
   "metadata": {},
   "source": [
    "ในคลาสทำได้โดยการกำหนดประเภทข้อมูล ตามด้วยชื่อของตัวแปร"
   ]
  },
  {
   "cell_type": "markdown",
   "metadata": {},
   "source": [
    "4. Field และ Variable แตกต่างกันอย่างไร\n"
   ]
  },
  {
   "cell_type": "markdown",
   "metadata": {},
   "source": [
    "Field อยู่ในคลาส ส่วน Variable สามารถอยู่ในคลาสหรือเมธอดก็ได้"
   ]
  },
  {
   "cell_type": "markdown",
   "metadata": {},
   "source": [
    "5. เมื่อไหร่ควรใช้ Field และเมื่อไหร่ควรใช้ Variable"
   ]
  },
  {
   "cell_type": "markdown",
   "metadata": {},
   "source": [
    "*คำตอบ*"
   ]
  },
  {
   "cell_type": "markdown",
   "metadata": {},
   "source": [
    "ใช้ Field เมื่อต้องการเก็บข้อมูลหรือสถานะของอ็อบเจ็กต์หรือคลาสที่มีชีวิตอยู่ตลอดอายุการใช้งานของอ็อบเจ็กต์นั้น \n",
    "ใช้ Variable เมื่อต้องการเก็บค่าชั่วคราวในเมธอดหรือบล็อกโค้ดที่มีขอบเขตจำกัด"
   ]
  },
  {
   "cell_type": "markdown",
   "metadata": {},
   "source": [
    "6. ในโปรแกรมการทดลองนี้ มี field หรือไม่ อยู่ในบรรทัดที่เท่าไหร่\n"
   ]
  },
  {
   "cell_type": "markdown",
   "metadata": {},
   "source": [
    "*คำตอบ*"
   ]
  },
  {
   "cell_type": "markdown",
   "metadata": {},
   "source": [
    " มี Field อยู่ในคลาส Person ที่บรรทัดที่ 6-8 "
   ]
  },
  {
   "cell_type": "markdown",
   "metadata": {},
   "source": [
    "7. ผลจากการรันโปรแกรมใน Console Application และใน polyglot notebook เหมือนหรือแตกต่างกันอย่างไร"
   ]
  },
  {
   "cell_type": "markdown",
   "metadata": {},
   "source": [
    "*คำตอบ*"
   ]
  },
  {
   "cell_type": "markdown",
   "metadata": {},
   "source": [
    "ผลลัพธ์ที่แสดงจะเหมือนกัน แต่รูปแบบการแสดงผลหรือการจัดการการรันโปรแกรมอาจแตกต่างกัน"
   ]
  }
 ],
 "metadata": {
  "kernelspec": {
   "display_name": ".NET (C#)",
   "language": "C#",
   "name": ".net-csharp"
  },
  "polyglot_notebook": {
   "kernelInfo": {
    "defaultKernelName": "csharp",
    "items": [
     {
      "aliases": [],
      "languageName": "csharp",
      "name": "csharp"
     }
    ]
   }
  }
 },
 "nbformat": 4,
 "nbformat_minor": 2
}
